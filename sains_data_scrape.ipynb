{
 "cells": [
  {
   "cell_type": "code",
   "execution_count": 93,
   "id": "05653332",
   "metadata": {},
   "outputs": [],
   "source": [
    "import requests\n",
    "import pandas as pd\n",
    "from bs4 import BeautifulSoup"
   ]
  },
  {
   "cell_type": "code",
   "execution_count": 94,
   "id": "e3a3158e",
   "metadata": {},
   "outputs": [],
   "source": [
    "product_name = []\n",
    "sell_price = []\n",
    "cost_price = []\n",
    "quantity = []\n",
    "image = []\n",
    "category = []"
   ]
  },
  {
   "cell_type": "code",
   "execution_count": 95,
   "id": "f43db29f",
   "metadata": {},
   "outputs": [],
   "source": [
    "link = \"https://food-to-order.sainsburys.co.uk\"\n",
    "r = requests.get(link)\n",
    "soup = BeautifulSoup(r.content,\"html.parser\")"
   ]
  },
  {
   "cell_type": "code",
   "execution_count": 96,
   "id": "f5dfdb7d",
   "metadata": {},
   "outputs": [],
   "source": [
    "## for category link\n",
    "cat_link =[]\n",
    "for i in soup.findAll('a',{'class':\"ln-c-navigation__link\"},href=True):\n",
    "    cat_link.append(i['href'])"
   ]
  },
  {
   "cell_type": "code",
   "execution_count": 97,
   "id": "dc90ac4a",
   "metadata": {},
   "outputs": [],
   "source": [
    "cat_link.remove(\"/category/products/home\")"
   ]
  },
  {
   "cell_type": "code",
   "execution_count": 98,
   "id": "3491591e",
   "metadata": {},
   "outputs": [
    {
     "data": {
      "text/plain": [
       "['/category/allfood',\n",
       " '/category/summer',\n",
       " '/category/Cake',\n",
       " '/category/sharing-buffet',\n",
       " '/category/platters-wraps',\n",
       " '/category/party-time',\n",
       " '/category/desserts',\n",
       " '/category/products/salads',\n",
       " '/category/products/fruit',\n",
       " '/category/products/dinner-party',\n",
       " '/category/products/office-lunch',\n",
       " '/category/products/veggie-party-food']"
      ]
     },
     "execution_count": 98,
     "metadata": {},
     "output_type": "execute_result"
    }
   ],
   "source": [
    "cat_link"
   ]
  },
  {
   "cell_type": "code",
   "execution_count": null,
   "id": "c8153892",
   "metadata": {},
   "outputs": [],
   "source": [
    "## for actuaal data\n",
    "for i in cat_link:\n",
    "    url = \"https://food-to-order.sainsburys.co.uk\"+i\n",
    "    r = requests.get(url)\n",
    "    soup = BeautifulSoup(r.content,\"html.parser\")\n",
    "    \n",
    "    name = soup.findAll(\"span\")\n",
    "    for i in name[45::5]:\n",
    "        try:\n",
    "            product_name.append(i.text)\n",
    "            cate = soup.findAll(\"h1\",{\"class\":\"ln-u-hero\"})\n",
    "            for i in cate:\n",
    "                category.append(i.text)\n",
    "        except:\n",
    "            product_name.append(\"NA\")\n",
    "        \n",
    "    pri = soup.findAll(\"strong\",{\"class\":\"ln-u-display-1\"})\n",
    "    for i in range(len(pri)):\n",
    "        try:\n",
    "            sell_price.append(pri[i].text)\n",
    "        except:\n",
    "            sell_price.append(\"NA\")\n",
    "    \n",
    "    cp = soup.findAll(\"p\")\n",
    "    for i in range(len(cp[3::4])):\n",
    "        try:\n",
    "            x = (cp[3::4][i].text).split(\" | \")\n",
    "            cost_price.append(x[0])\n",
    "            quantity.append(x[1])\n",
    "        except:\n",
    "            cost_price.append(\"NA\")\n",
    "            quantity.append(\"NA\")\n",
    "            \n",
    "    img = soup('img',{\"class\":\"responsive-image\"})\n",
    "    for i in img[0:-1]:\n",
    "        image.append(i['src'])"
   ]
  },
  {
   "cell_type": "code",
   "execution_count": null,
   "id": "0b16eb1d",
   "metadata": {},
   "outputs": [],
   "source": [
    "len(product_name),len(quantity),len(cost_price),len(sell_price),len(image),len(category)"
   ]
  },
  {
   "cell_type": "code",
   "execution_count": null,
   "id": "4532ceed",
   "metadata": {},
   "outputs": [],
   "source": [
    "data = {\"Name\":product_name,\"Sell_price\":sell_price,\"cost_price\":cost_price,\"Quantity\":quantity,\"Category\":category,\"Image\":image}"
   ]
  },
  {
   "cell_type": "code",
   "execution_count": null,
   "id": "5f65ba2d",
   "metadata": {},
   "outputs": [],
   "source": [
    "file = pd.DataFrame(data)"
   ]
  },
  {
   "cell_type": "code",
   "execution_count": null,
   "id": "96ae6c39",
   "metadata": {},
   "outputs": [],
   "source": [
    "file.to_csv ('sainsburys.csv', index=None)"
   ]
  },
  {
   "cell_type": "code",
   "execution_count": null,
   "id": "78782476",
   "metadata": {},
   "outputs": [],
   "source": [
    "file"
   ]
  },
  {
   "cell_type": "code",
   "execution_count": 92,
   "id": "debd800c",
   "metadata": {},
   "outputs": [
    {
     "data": {
      "text/plain": [
       "'Veggie party food'"
      ]
     },
     "execution_count": 92,
     "metadata": {},
     "output_type": "execute_result"
    }
   ],
   "source": [
    "cate[0].text"
   ]
  },
  {
   "cell_type": "code",
   "execution_count": null,
   "id": "61c3b223",
   "metadata": {},
   "outputs": [],
   "source": []
  },
  {
   "cell_type": "code",
   "execution_count": null,
   "id": "ed77e37a",
   "metadata": {},
   "outputs": [],
   "source": []
  },
  {
   "cell_type": "code",
   "execution_count": null,
   "id": "a9bb529a",
   "metadata": {},
   "outputs": [],
   "source": []
  },
  {
   "cell_type": "code",
   "execution_count": null,
   "id": "c8ade237",
   "metadata": {},
   "outputs": [],
   "source": []
  },
  {
   "cell_type": "code",
   "execution_count": null,
   "id": "de303dbd",
   "metadata": {},
   "outputs": [],
   "source": []
  }
 ],
 "metadata": {
  "kernelspec": {
   "display_name": "Python 3 (ipykernel)",
   "language": "python",
   "name": "python3"
  },
  "language_info": {
   "codemirror_mode": {
    "name": "ipython",
    "version": 3
   },
   "file_extension": ".py",
   "mimetype": "text/x-python",
   "name": "python",
   "nbconvert_exporter": "python",
   "pygments_lexer": "ipython3",
   "version": "3.9.7"
  }
 },
 "nbformat": 4,
 "nbformat_minor": 5
}
