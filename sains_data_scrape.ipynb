{
 "cells": [
  {
   "cell_type": "code",
   "execution_count": 61,
   "id": "05653332",
   "metadata": {},
   "outputs": [],
   "source": [
    "import requests\n",
    "import pandas as pd\n",
    "from bs4 import BeautifulSoup"
   ]
  },
  {
   "cell_type": "code",
   "execution_count": 62,
   "id": "e3a3158e",
   "metadata": {},
   "outputs": [],
   "source": [
    "product_name = []\n",
    "sell_price = []\n",
    "cost_price = []\n",
    "quantity = []\n",
    "image = []\n",
    "category = []"
   ]
  },
  {
   "cell_type": "code",
   "execution_count": 63,
   "id": "f43db29f",
   "metadata": {},
   "outputs": [],
   "source": [
    "link = \"https://food-to-order.sainsburys.co.uk\"\n",
    "r = requests.get(link)\n",
    "soup = BeautifulSoup(r.content,\"html.parser\")"
   ]
  },
  {
   "cell_type": "code",
   "execution_count": 64,
   "id": "f5dfdb7d",
   "metadata": {},
   "outputs": [],
   "source": [
    "## for category link\n",
    "cat_link =[]\n",
    "for i in soup.findAll('a',{'class':\"ln-c-navigation__link\"},href=True):\n",
    "    cat_link.append(i['href'])"
   ]
  },
  {
   "cell_type": "code",
   "execution_count": 65,
   "id": "00fdbb82",
   "metadata": {},
   "outputs": [],
   "source": [
    "cat_link.remove(\"/category/products/home\")"
   ]
  },
  {
   "cell_type": "code",
   "execution_count": 66,
   "id": "8450360a",
   "metadata": {},
   "outputs": [
    {
     "data": {
      "text/plain": [
       "['/category/allfood',\n",
       " '/category/summer',\n",
       " '/category/Cake',\n",
       " '/category/sharing-buffet',\n",
       " '/category/platters-wraps',\n",
       " '/category/party-time',\n",
       " '/category/desserts',\n",
       " '/category/products/salads',\n",
       " '/category/products/fruit',\n",
       " '/category/products/dinner-party',\n",
       " '/category/products/office-lunch',\n",
       " '/category/products/veggie-party-food']"
      ]
     },
     "execution_count": 66,
     "metadata": {},
     "output_type": "execute_result"
    }
   ],
   "source": [
    "cat_link"
   ]
  },
  {
   "cell_type": "code",
   "execution_count": 67,
   "id": "c8153892",
   "metadata": {},
   "outputs": [],
   "source": [
    "## for actuaal data\n",
    "for i in cat_link:\n",
    "    url = \"https://food-to-order.sainsburys.co.uk\"+i\n",
    "    r = requests.get(url)\n",
    "    soup = BeautifulSoup(r.content,\"html.parser\")\n",
    "    \n",
    "    name = soup.findAll(\"span\")\n",
    "    for i in name[45::5]:\n",
    "        try:\n",
    "            product_name.append(i.text)\n",
    "            cate = soup.findAll(\"h1\",{\"class\":\"ln-u-hero\"})\n",
    "            for i in cate:\n",
    "                category.append(i)\n",
    "        except:\n",
    "            product_name.append(\"NA\")\n",
    "        \n",
    "    pri = soup.findAll(\"strong\",{\"class\":\"ln-u-display-1\"})\n",
    "    for i in range(len(pri)):\n",
    "        try:\n",
    "            sell_price.append(pri[i].text)\n",
    "        except:\n",
    "            sell_price.append(\"NA\")\n",
    "    \n",
    "    cp = soup.findAll(\"p\")\n",
    "    for i in range(len(cp[3::4])):\n",
    "        try:\n",
    "            x = (cp[3::4][i].text).split(\" | \")\n",
    "            cost_price.append(x[0])\n",
    "            quantity.append(x[1])\n",
    "        except:\n",
    "            cost_price.append(\"NA\")\n",
    "            quantity.append(\"NA\")\n",
    "            \n",
    "    img = soup('img',{\"class\":\"responsive-image\"})\n",
    "    for i in img[0:-1]:\n",
    "        image.append(i['src'])"
   ]
  },
  {
   "cell_type": "code",
   "execution_count": 69,
   "id": "0b16eb1d",
   "metadata": {},
   "outputs": [
    {
     "data": {
      "text/plain": [
       "(365, 365, 365, 365, 365, 365)"
      ]
     },
     "execution_count": 69,
     "metadata": {},
     "output_type": "execute_result"
    }
   ],
   "source": [
    "len(product_name),len(quantity),len(cost_price),len(sell_price),len(image),len(category)"
   ]
  },
  {
   "cell_type": "code",
   "execution_count": 72,
   "id": "4532ceed",
   "metadata": {},
   "outputs": [],
   "source": [
    "data = {\"Name\":product_name,\"Sell_price\":sell_price,\"cost_price\":cost_price,\"Quantity\":quantity,\"Category\":category,\"Image\":image}"
   ]
  },
  {
   "cell_type": "code",
   "execution_count": 73,
   "id": "5f65ba2d",
   "metadata": {},
   "outputs": [],
   "source": [
    "file = pd.DataFrame(data)"
   ]
  },
  {
   "cell_type": "code",
   "execution_count": 86,
   "id": "96ae6c39",
   "metadata": {},
   "outputs": [],
   "source": [
    "file.to_csv ('sainsburys.csv', index=None)"
   ]
  },
  {
   "cell_type": "code",
   "execution_count": 87,
   "id": "bd61e661",
   "metadata": {},
   "outputs": [
    {
     "data": {
      "text/html": [
       "<div>\n",
       "<style scoped>\n",
       "    .dataframe tbody tr th:only-of-type {\n",
       "        vertical-align: middle;\n",
       "    }\n",
       "\n",
       "    .dataframe tbody tr th {\n",
       "        vertical-align: top;\n",
       "    }\n",
       "\n",
       "    .dataframe thead th {\n",
       "        text-align: right;\n",
       "    }\n",
       "</style>\n",
       "<table border=\"1\" class=\"dataframe\">\n",
       "  <thead>\n",
       "    <tr style=\"text-align: right;\">\n",
       "      <th></th>\n",
       "      <th>Name</th>\n",
       "      <th>Sell_price</th>\n",
       "      <th>cost_price</th>\n",
       "      <th>Quantity</th>\n",
       "      <th>Category</th>\n",
       "      <th>Image</th>\n",
       "    </tr>\n",
       "  </thead>\n",
       "  <tbody>\n",
       "    <tr>\n",
       "      <th>0</th>\n",
       "      <td>Meat Sandwich Platter (20 Quarters)</td>\n",
       "      <td>£14.00</td>\n",
       "      <td>£13.33/kg</td>\n",
       "      <td>1.05kg</td>\n",
       "      <td>[All food]</td>\n",
       "      <td>//s3-eu-west-1.amazonaws.com/images-olympus/pr...</td>\n",
       "    </tr>\n",
       "    <tr>\n",
       "      <th>1</th>\n",
       "      <td>Classic Sandwich Platter (20 Quarters)</td>\n",
       "      <td>£14.00</td>\n",
       "      <td>£15.55/kg</td>\n",
       "      <td>0.90kg</td>\n",
       "      <td>[All food]</td>\n",
       "      <td>//s3-eu-west-1.amazonaws.com/images-olympus/pr...</td>\n",
       "    </tr>\n",
       "    <tr>\n",
       "      <th>2</th>\n",
       "      <td>Meat Wrap Platter (16 Wrap Pieces)</td>\n",
       "      <td>£14.00</td>\n",
       "      <td>£14.14/kg</td>\n",
       "      <td>0.99kg</td>\n",
       "      <td>[All food]</td>\n",
       "      <td>//s3-eu-west-1.amazonaws.com/images-olympus/pr...</td>\n",
       "    </tr>\n",
       "    <tr>\n",
       "      <th>3</th>\n",
       "      <td>Vegetarian Sandwich Platter (20 Quarters)</td>\n",
       "      <td>£14.00</td>\n",
       "      <td>£13.33/KG</td>\n",
       "      <td>1.05KG</td>\n",
       "      <td>[All food]</td>\n",
       "      <td>//s3-eu-west-1.amazonaws.com/images-olympus/pr...</td>\n",
       "    </tr>\n",
       "    <tr>\n",
       "      <th>4</th>\n",
       "      <td>Fish Sandwich Platter (20 Quarters)</td>\n",
       "      <td>£14.00</td>\n",
       "      <td>£12.28/kg</td>\n",
       "      <td>1.14kg</td>\n",
       "      <td>[All food]</td>\n",
       "      <td>//s3-eu-west-1.amazonaws.com/images-olympus/pr...</td>\n",
       "    </tr>\n",
       "    <tr>\n",
       "      <th>...</th>\n",
       "      <td>...</td>\n",
       "      <td>...</td>\n",
       "      <td>...</td>\n",
       "      <td>...</td>\n",
       "      <td>...</td>\n",
       "      <td>...</td>\n",
       "    </tr>\n",
       "    <tr>\n",
       "      <th>360</th>\n",
       "      <td>Mini Tart Selection (24 Tarts)</td>\n",
       "      <td>£15.00</td>\n",
       "      <td>£20.16/kg</td>\n",
       "      <td>0.74kg</td>\n",
       "      <td>[Veggie party food]</td>\n",
       "      <td>//s3-eu-west-1.amazonaws.com/images-olympus/pr...</td>\n",
       "    </tr>\n",
       "    <tr>\n",
       "      <th>361</th>\n",
       "      <td>Cheese Bites Platter</td>\n",
       "      <td>£11.00</td>\n",
       "      <td>£24.44/kg</td>\n",
       "      <td>0.45kg</td>\n",
       "      <td>[Veggie party food]</td>\n",
       "      <td>//s3-eu-west-1.amazonaws.com/images-olympus/pr...</td>\n",
       "    </tr>\n",
       "    <tr>\n",
       "      <th>362</th>\n",
       "      <td>New York Vanilla Cheesecake</td>\n",
       "      <td>£6.00</td>\n",
       "      <td>£6/kg</td>\n",
       "      <td>1.00kg</td>\n",
       "      <td>[Veggie party food]</td>\n",
       "      <td>//s3-eu-west-1.amazonaws.com/images-olympus/pr...</td>\n",
       "    </tr>\n",
       "    <tr>\n",
       "      <th>363</th>\n",
       "      <td>Belgian Chocolate Profiterole Stack (30 pieces)</td>\n",
       "      <td>£7.00</td>\n",
       "      <td>£11.67/kg</td>\n",
       "      <td>0.60kg</td>\n",
       "      <td>[Veggie party food]</td>\n",
       "      <td>//s3-eu-west-1.amazonaws.com/images-olympus/pr...</td>\n",
       "    </tr>\n",
       "    <tr>\n",
       "      <th>364</th>\n",
       "      <td>White chocolate &amp; berry cheesecake</td>\n",
       "      <td>£6.00</td>\n",
       "      <td>£6.32/Kg</td>\n",
       "      <td>0.95Kg</td>\n",
       "      <td>[Veggie party food]</td>\n",
       "      <td>//s3-eu-west-1.amazonaws.com/images-olympus/pr...</td>\n",
       "    </tr>\n",
       "  </tbody>\n",
       "</table>\n",
       "<p>365 rows × 6 columns</p>\n",
       "</div>"
      ],
      "text/plain": [
       "                                                Name Sell_price cost_price  \\\n",
       "0                Meat Sandwich Platter (20 Quarters)     £14.00  £13.33/kg   \n",
       "1             Classic Sandwich Platter (20 Quarters)     £14.00  £15.55/kg   \n",
       "2                 Meat Wrap Platter (16 Wrap Pieces)     £14.00  £14.14/kg   \n",
       "3          Vegetarian Sandwich Platter (20 Quarters)     £14.00  £13.33/KG   \n",
       "4                Fish Sandwich Platter (20 Quarters)     £14.00  £12.28/kg   \n",
       "..                                               ...        ...        ...   \n",
       "360                   Mini Tart Selection (24 Tarts)     £15.00  £20.16/kg   \n",
       "361                             Cheese Bites Platter     £11.00  £24.44/kg   \n",
       "362                      New York Vanilla Cheesecake      £6.00      £6/kg   \n",
       "363  Belgian Chocolate Profiterole Stack (30 pieces)      £7.00  £11.67/kg   \n",
       "364               White chocolate & berry cheesecake      £6.00   £6.32/Kg   \n",
       "\n",
       "    Quantity             Category  \\\n",
       "0     1.05kg           [All food]   \n",
       "1     0.90kg           [All food]   \n",
       "2     0.99kg           [All food]   \n",
       "3     1.05KG           [All food]   \n",
       "4     1.14kg           [All food]   \n",
       "..       ...                  ...   \n",
       "360   0.74kg  [Veggie party food]   \n",
       "361   0.45kg  [Veggie party food]   \n",
       "362   1.00kg  [Veggie party food]   \n",
       "363   0.60kg  [Veggie party food]   \n",
       "364   0.95Kg  [Veggie party food]   \n",
       "\n",
       "                                                 Image  \n",
       "0    //s3-eu-west-1.amazonaws.com/images-olympus/pr...  \n",
       "1    //s3-eu-west-1.amazonaws.com/images-olympus/pr...  \n",
       "2    //s3-eu-west-1.amazonaws.com/images-olympus/pr...  \n",
       "3    //s3-eu-west-1.amazonaws.com/images-olympus/pr...  \n",
       "4    //s3-eu-west-1.amazonaws.com/images-olympus/pr...  \n",
       "..                                                 ...  \n",
       "360  //s3-eu-west-1.amazonaws.com/images-olympus/pr...  \n",
       "361  //s3-eu-west-1.amazonaws.com/images-olympus/pr...  \n",
       "362  //s3-eu-west-1.amazonaws.com/images-olympus/pr...  \n",
       "363  //s3-eu-west-1.amazonaws.com/images-olympus/pr...  \n",
       "364  //s3-eu-west-1.amazonaws.com/images-olympus/pr...  \n",
       "\n",
       "[365 rows x 6 columns]"
      ]
     },
     "execution_count": 87,
     "metadata": {},
     "output_type": "execute_result"
    }
   ],
   "source": [
    "file"
   ]
  },
  {
   "cell_type": "code",
   "execution_count": null,
   "id": "b318c433",
   "metadata": {},
   "outputs": [],
   "source": []
  },
  {
   "cell_type": "code",
   "execution_count": null,
   "id": "06c57746",
   "metadata": {},
   "outputs": [],
   "source": []
  },
  {
   "cell_type": "code",
   "execution_count": null,
   "id": "34e661ac",
   "metadata": {},
   "outputs": [],
   "source": []
  },
  {
   "cell_type": "code",
   "execution_count": null,
   "id": "e5b88a14",
   "metadata": {},
   "outputs": [],
   "source": []
  },
  {
   "cell_type": "code",
   "execution_count": null,
   "id": "ab9a212a",
   "metadata": {},
   "outputs": [],
   "source": []
  },
  {
   "cell_type": "code",
   "execution_count": null,
   "id": "b425aabb",
   "metadata": {},
   "outputs": [],
   "source": []
  }
 ],
 "metadata": {
  "kernelspec": {
   "display_name": "Python 3 (ipykernel)",
   "language": "python",
   "name": "python3"
  },
  "language_info": {
   "codemirror_mode": {
    "name": "ipython",
    "version": 3
   },
   "file_extension": ".py",
   "mimetype": "text/x-python",
   "name": "python",
   "nbconvert_exporter": "python",
   "pygments_lexer": "ipython3",
   "version": "3.9.7"
  }
 },
 "nbformat": 4,
 "nbformat_minor": 5
}
