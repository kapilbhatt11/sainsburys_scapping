{
 "cells": [
  {
   "cell_type": "code",
   "execution_count": 1,
   "id": "3c72ae77",
   "metadata": {},
   "outputs": [],
   "source": [
    "import requests\n",
    "import pandas as pd\n",
    "from bs4 import BeautifulSoup"
   ]
  },
  {
   "cell_type": "code",
   "execution_count": 2,
   "id": "2c5f5839",
   "metadata": {},
   "outputs": [],
   "source": [
    "product_name = []\n",
    "sell_price = []\n",
    "cost_price = []\n",
    "quantity = []"
   ]
  },
  {
   "cell_type": "code",
   "execution_count": 47,
   "id": "d86e6478",
   "metadata": {},
   "outputs": [],
   "source": [
    "link = \"https://food-to-order.sainsburys.co.uk\"\n",
    "r = requests.get(link)\n",
    "soup = BeautifulSoup(r.content,\"html.parser\")"
   ]
  },
  {
   "cell_type": "code",
   "execution_count": null,
   "id": "93219569",
   "metadata": {},
   "outputs": [],
   "source": []
  },
  {
   "cell_type": "code",
   "execution_count": 42,
   "id": "ffbb37ee",
   "metadata": {},
   "outputs": [],
   "source": [
    "## for category link\n",
    "cat_link =[]\n",
    "for i in soup.findAll('a',{'class':\"ln-c-navigation__link\"},href=True):\n",
    "    cat_link.append(i['href'])"
   ]
  },
  {
   "cell_type": "code",
   "execution_count": 3,
   "id": "92a20789",
   "metadata": {},
   "outputs": [],
   "source": [
    "## for actuaal data\n",
    "for i in cat_link:\n",
    "    url = \"https://food-to-order.sainsburys.co.uk\"+i\n",
    "    r = requests.get(url)\n",
    "    soup = BeautifulSoup(r.content,\"html.parser\")\n",
    "    \n",
    "    name = soup.findAll(\"span\")\n",
    "    for i in name[45::5]:\n",
    "        product_name.append(i)\n",
    "        \n",
    "    pri = soup.findAll(\"strong\",{\"class\":\"ln-u-display-1\"})\n",
    "    for i in range(len(pri)):\n",
    "        sell_price.append(pri[i].text)\n",
    "    \n",
    "    cp = soup.findAll(\"p\")\n",
    "    for i in range(len(cp[3::4])):\n",
    "        x = (cp[3::4][i].text).split(\" | \")\n",
    "        cost_price.append(x[0])\n",
    "        quantity.append(x[1])"
   ]
  },
  {
   "cell_type": "code",
   "execution_count": 23,
   "id": "71b378aa",
   "metadata": {},
   "outputs": [
    {
     "data": {
      "text/plain": [
       "(45, 45, 45, 45)"
      ]
     },
     "execution_count": 23,
     "metadata": {},
     "output_type": "execute_result"
    }
   ],
   "source": [
    "len(quantity),len(cost_price),len(sell_price),len(product_name)"
   ]
  },
  {
   "cell_type": "code",
   "execution_count": 19,
   "id": "1781c666",
   "metadata": {},
   "outputs": [],
   "source": [
    "data = {\"Name\":product_name,\"Sell_price\":sell_price,\"cost_price\":cost_price,\"Quantity\":quantity}"
   ]
  },
  {
   "cell_type": "code",
   "execution_count": 21,
   "id": "943cd4af",
   "metadata": {},
   "outputs": [],
   "source": [
    "file = pd.DataFrame(data)"
   ]
  },
  {
   "cell_type": "code",
   "execution_count": 44,
   "id": "fe848b94",
   "metadata": {},
   "outputs": [
    {
     "data": {
      "text/html": [
       "<div>\n",
       "<style scoped>\n",
       "    .dataframe tbody tr th:only-of-type {\n",
       "        vertical-align: middle;\n",
       "    }\n",
       "\n",
       "    .dataframe tbody tr th {\n",
       "        vertical-align: top;\n",
       "    }\n",
       "\n",
       "    .dataframe thead th {\n",
       "        text-align: right;\n",
       "    }\n",
       "</style>\n",
       "<table border=\"1\" class=\"dataframe\">\n",
       "  <thead>\n",
       "    <tr style=\"text-align: right;\">\n",
       "      <th></th>\n",
       "      <th>Name</th>\n",
       "      <th>Sell_price</th>\n",
       "      <th>cost_price</th>\n",
       "      <th>Quantity</th>\n",
       "    </tr>\n",
       "  </thead>\n",
       "  <tbody>\n",
       "    <tr>\n",
       "      <th>0</th>\n",
       "      <td>[Classic Sandwich Platter (20 Quarters)]</td>\n",
       "      <td>£14.00</td>\n",
       "      <td>£15.55/kg</td>\n",
       "      <td>0.90kg</td>\n",
       "    </tr>\n",
       "    <tr>\n",
       "      <th>1</th>\n",
       "      <td>[Vegetarian Sandwich Platter (20 Quarters)]</td>\n",
       "      <td>£14.00</td>\n",
       "      <td>£13.33/KG</td>\n",
       "      <td>1.05KG</td>\n",
       "    </tr>\n",
       "    <tr>\n",
       "      <th>2</th>\n",
       "      <td>[YO! Salmon &amp; Prawn Deluxe Platter]</td>\n",
       "      <td>£18.00</td>\n",
       "      <td>£20.91/kg</td>\n",
       "      <td>0.86kg</td>\n",
       "    </tr>\n",
       "    <tr>\n",
       "      <th>3</th>\n",
       "      <td>[YO! Crispy Maki Platter]</td>\n",
       "      <td>£10.00</td>\n",
       "      <td>£17.48/kg</td>\n",
       "      <td>0.57kg</td>\n",
       "    </tr>\n",
       "    <tr>\n",
       "      <th>4</th>\n",
       "      <td>[YO! Crispy Vegan Sharing Platter]</td>\n",
       "      <td>£8.00</td>\n",
       "      <td>£14.13/kg</td>\n",
       "      <td>0.57kg</td>\n",
       "    </tr>\n",
       "  </tbody>\n",
       "</table>\n",
       "</div>"
      ],
      "text/plain": [
       "                                          Name Sell_price cost_price Quantity\n",
       "0     [Classic Sandwich Platter (20 Quarters)]     £14.00  £15.55/kg   0.90kg\n",
       "1  [Vegetarian Sandwich Platter (20 Quarters)]     £14.00  £13.33/KG   1.05KG\n",
       "2          [YO! Salmon & Prawn Deluxe Platter]     £18.00  £20.91/kg   0.86kg\n",
       "3                    [YO! Crispy Maki Platter]     £10.00  £17.48/kg   0.57kg\n",
       "4           [YO! Crispy Vegan Sharing Platter]      £8.00  £14.13/kg   0.57kg"
      ]
     },
     "execution_count": 44,
     "metadata": {},
     "output_type": "execute_result"
    }
   ],
   "source": [
    "file.head()"
   ]
  },
  {
   "cell_type": "code",
   "execution_count": null,
   "id": "04990b8c",
   "metadata": {},
   "outputs": [],
   "source": []
  }
 ],
 "metadata": {
  "kernelspec": {
   "display_name": "Python 3 (ipykernel)",
   "language": "python",
   "name": "python3"
  },
  "language_info": {
   "codemirror_mode": {
    "name": "ipython",
    "version": 3
   },
   "file_extension": ".py",
   "mimetype": "text/x-python",
   "name": "python",
   "nbconvert_exporter": "python",
   "pygments_lexer": "ipython3",
   "version": "3.9.7"
  }
 },
 "nbformat": 4,
 "nbformat_minor": 5
}
